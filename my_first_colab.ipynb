{
  "nbformat": 4,
  "nbformat_minor": 0,
  "metadata": {
    "colab": {
      "name": "my_first_colab.ipynb",
      "provenance": [],
      "collapsed_sections": [],
      "authorship_tag": "ABX9TyNPHcNtnmshUPbNyCL+BVv1",
      "include_colab_link": true
    },
    "kernelspec": {
      "name": "python3",
      "display_name": "Python 3"
    },
    "language_info": {
      "name": "python"
    }
  },
  "cells": [
    {
      "cell_type": "markdown",
      "metadata": {
        "id": "view-in-github",
        "colab_type": "text"
      },
      "source": [
        "<a href=\"https://colab.research.google.com/github/zuriBarnes/flask_test/blob/master/my_first_colab.ipynb\" target=\"_parent\"><img src=\"https://colab.research.google.com/assets/colab-badge.svg\" alt=\"Open In Colab\"/></a>"
      ]
    },
    {
      "cell_type": "markdown",
      "source": [
        "# This is a test colab document\n",
        "## this is another sentence smaller font\n",
        "\n",
        "\n",
        "\n"
      ],
      "metadata": {
        "id": "8kWFGMNQhXMo"
      }
    },
    {
      "cell_type": "markdown",
      "source": [
        "# New Section"
      ],
      "metadata": {
        "id": "M6yprh7PiDk1"
      }
    },
    {
      "cell_type": "markdown",
      "source": [
        ""
      ],
      "metadata": {
        "id": "rQY-knQDk6DH"
      }
    },
    {
      "cell_type": "code",
      "execution_count": 7,
      "metadata": {
        "colab": {
          "base_uri": "https://localhost:8080/"
        },
        "id": "c4OHSLiPhTJu",
        "outputId": "47729cbe-d898-49fd-dc4d-838ff7c7e299"
      },
      "outputs": [
        {
          "output_type": "stream",
          "name": "stdout",
          "text": [
            "\n",
            "\n",
            "     #######################################\n",
            "     ||                                   ||\n",
            "     ||         Choose-Your-Path          ||\n",
            "     ||                                   ||\n",
            "     ||           version 1.0             ||\n",
            "     ||                                   ||\n",
            "     #######################################\n",
            "\n",
            "\n",
            "Would you like to play my game (Y/n) y\n",
            "\n",
            "\n",
            "Welcome to my game!!\n",
            "\n",
            "Choose your power... Power of Mind(1), Matter(2), Light(3) 3\n",
            "\n",
            "\n",
            "You picked 3\n"
          ]
        }
      ],
      "source": [
        "import sys\n",
        "import time\n",
        "\n",
        "# time variables\n",
        "a = 3\n",
        "b = 0.2\n",
        "c = 0.08\n",
        "\n",
        "\n",
        "# Intro\n",
        "print()\n",
        "print()\n",
        "print(\"     #######################################\")\n",
        "print(\"     ||                                   ||\")\n",
        "print(\"     ||         Choose-Your-Path          ||\")\n",
        "print(\"     ||                                   ||\")\n",
        "print(\"     ||           version 1.0             ||\")\n",
        "print(\"     ||                                   ||\")\n",
        "print(\"     #######################################\")\n",
        "print()\n",
        "print()\n",
        "\n",
        "start_game = input(\"Would you like to play my game (Y/n) \").lower()\n",
        "if start_game == \"n\":\n",
        "    print(\"\")   \n",
        "    print(\"Ok, maybe next time\")\n",
        "\n",
        "# Main Loop\n",
        "while start_game != \"n\":\n",
        "    print()\n",
        "    print()\n",
        "    print(\"Welcome to my game!!\")\n",
        "    print()\n",
        "    pick_a_door = input(\"Choose your power... Power of Mind(1), Matter(2), Light(3) \")\n",
        "    print()\n",
        "    print()\n",
        "    if pick_a_door == \"1\":\n",
        "        print(\"\")\n",
        "        print(\"(Mind Powers selected..)\")\n",
        "        time.sleep(a)\n",
        "        print()\n",
        "        print(\"You hear a sound. It's a soft sound. Barley noticable in the forest\")\n",
        "        time.sleep(a)\n",
        "        print(\"\")\n",
        "        s1 = \"...What the hell is that?...\"\n",
        "        for character in s1:\n",
        "            sys.stdout.write(character)\n",
        "            sys.stdout.flush()\n",
        "            time.sleep(c)\n",
        "        # print()\n",
        "        break\n",
        "    elif pick_a_door == \"2\":\n",
        "        print(\"You picked 2\")\n",
        "        break\n",
        "    elif pick_a_door == \"3\":\n",
        "        print(\"You picked 3\")\n",
        "        break\n",
        "    else:\n",
        "        print(\"slection invalid, try again\")\n",
        "        print(\"\")\n",
        "        start_game = input(\"Would you like to play my game (Y/n) \").lower()\n",
        "        if start_game == \"n\":\n",
        "            print(\"ok, see you next time!\")\n",
        "            print(\"Game ended\")\n",
        "     \n",
        "        \n"
      ]
    }
  ]
}